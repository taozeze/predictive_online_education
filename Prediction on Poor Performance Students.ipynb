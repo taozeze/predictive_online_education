{
 "cells": [
  {
   "cell_type": "markdown",
   "metadata": {
    "deletable": true,
    "editable": true
   },
   "source": [
    "# Prediction on Poor Performance Students\n",
    "\n",
    "## Outline\n",
    "- Part 0. Automation setup\n",
    "- Part 1. Data preparation (create new aggregated features, subset the data by cutting out future data, convert categorical variable, split train and test data)\n",
    "- Part 2. Model building (cross validation, parameter tuning)\n",
    "- Part 3. Model evaluation (confusion matrix, KS statistics, cumulative gain chart)"
   ]
  },
  {
   "cell_type": "markdown",
   "metadata": {
    "deletable": true,
    "editable": true
   },
   "source": [
    "# Part 0. Automation setup\n",
    "\n",
    "- Select the metric to predict, the time to predict, the number of days to predict forward (for withdrawal), and algorithm\n",
    "- Click on \"run all below\", the predictive model will be run automatically :)"
   ]
  },
  {
   "cell_type": "code",
   "execution_count": 4219,
   "metadata": {
    "collapsed": true,
    "deletable": true,
    "editable": true
   },
   "outputs": [],
   "source": [
    "# Metric need to be predicted\n",
    "metric = 'Fail' #'Withdrawn','Fail'\n",
    "# Cut-off day\n",
    "cutoff_i = 120\n",
    "# For withdrawal only: number of days to predict forward\n",
    "window_width = 7\n",
    "# Algorithm\n",
    "algorithm = 'Random Forest' #'Neural Network', 'XGBoost'"
   ]
  },
  {
   "cell_type": "markdown",
   "metadata": {
    "deletable": true,
    "editable": true
   },
   "source": [
    "# Part 1. Data Preparation"
   ]
  },
  {
   "cell_type": "markdown",
   "metadata": {
    "deletable": true,
    "editable": true
   },
   "source": [
    "## 1.1 Load package"
   ]
  },
  {
   "cell_type": "code",
   "execution_count": 4284,
   "metadata": {
    "collapsed": true,
    "deletable": true,
    "editable": true
   },
   "outputs": [],
   "source": [
    "import numpy as np\n",
    "import pandas as pd\n",
    "from pandas import Series, DataFrame\n",
    "import warnings\n",
    "warnings.filterwarnings('ignore')"
   ]
  },
  {
   "cell_type": "code",
   "execution_count": 4285,
   "metadata": {
    "collapsed": true,
    "deletable": true,
    "editable": true
   },
   "outputs": [],
   "source": [
    "from sklearn.ensemble import RandomForestClassifier, GradientBoostingClassifier, AdaBoostClassifier, VotingClassifier\n",
    "from sklearn.model_selection import GridSearchCV\n",
    "from sklearn.metrics import accuracy_score, classification_report, confusion_matrix\n",
    "from sklearn.cross_validation import train_test_split\n",
    "from xgboost import XGBClassifier"
   ]
  },
  {
   "cell_type": "markdown",
   "metadata": {
    "deletable": true,
    "editable": true
   },
   "source": [
    "## 1.2 Read file"
   ]
  },
  {
   "cell_type": "code",
   "execution_count": 2185,
   "metadata": {
    "collapsed": true,
    "deletable": true,
    "editable": true
   },
   "outputs": [],
   "source": [
    "course_student_all = pd.read_csv(\"~/Google Drive/MSBA@UMN/OULAD/course_student_all.csv\")"
   ]
  },
  {
   "cell_type": "code",
   "execution_count": 2186,
   "metadata": {
    "collapsed": true,
    "deletable": true,
    "editable": true
   },
   "outputs": [],
   "source": [
    "assessment_student_all = pd.read_csv(\"~/Google Drive/MSBA@UMN/OULAD/course_student_assessment.csv\")"
   ]
  },
  {
   "cell_type": "code",
   "execution_count": 2187,
   "metadata": {
    "collapsed": true,
    "deletable": true,
    "editable": true
   },
   "outputs": [],
   "source": [
    "vle_student_all = pd.read_csv(\"~/Google Drive/MSBA@UMN/OULAD/course_student_vle_final.csv\")"
   ]
  },
  {
   "cell_type": "markdown",
   "metadata": {
    "deletable": true,
    "editable": true
   },
   "source": [
    "## 1.3 Basic aggregation before joining"
   ]
  },
  {
   "cell_type": "markdown",
   "metadata": {
    "deletable": true,
    "editable": true
   },
   "source": [
    "### 1) Course student table"
   ]
  },
  {
   "cell_type": "code",
   "execution_count": 4286,
   "metadata": {
    "collapsed": false,
    "deletable": true,
    "editable": true
   },
   "outputs": [
    {
     "data": {
      "text/plain": [
       "(32446, 30)"
      ]
     },
     "execution_count": 4286,
     "metadata": {},
     "output_type": "execute_result"
    }
   ],
   "source": [
    "course_student_all.shape"
   ]
  },
  {
   "cell_type": "code",
   "execution_count": 4287,
   "metadata": {
    "collapsed": false,
    "deletable": true,
    "editable": true
   },
   "outputs": [
    {
     "data": {
      "text/html": [
       "<div>\n",
       "<style>\n",
       "    .dataframe thead tr:only-child th {\n",
       "        text-align: right;\n",
       "    }\n",
       "\n",
       "    .dataframe thead th {\n",
       "        text-align: left;\n",
       "    }\n",
       "\n",
       "    .dataframe tbody tr th {\n",
       "        vertical-align: top;\n",
       "    }\n",
       "</style>\n",
       "<table border=\"1\" class=\"dataframe\">\n",
       "  <thead>\n",
       "    <tr style=\"text-align: right;\">\n",
       "      <th></th>\n",
       "      <th>Unnamed: 0</th>\n",
       "      <th>id_student</th>\n",
       "      <th>num_of_prev_attempts</th>\n",
       "      <th>studied_credits</th>\n",
       "      <th>date_registration</th>\n",
       "      <th>date_unregistration</th>\n",
       "      <th>module_presentation_length</th>\n",
       "      <th>Distinction</th>\n",
       "      <th>Fail</th>\n",
       "      <th>Pass</th>\n",
       "      <th>...</th>\n",
       "      <th>course_n_type</th>\n",
       "      <th>course_n_Exam</th>\n",
       "      <th>course_n_CMA</th>\n",
       "      <th>course_n_TMA</th>\n",
       "      <th>course_weight_total</th>\n",
       "      <th>course_weight_Exam</th>\n",
       "      <th>course_weight_CMA</th>\n",
       "      <th>course_weight_TMA</th>\n",
       "      <th>course_activity_n</th>\n",
       "      <th>course_site_n</th>\n",
       "    </tr>\n",
       "  </thead>\n",
       "  <tbody>\n",
       "    <tr>\n",
       "      <th>count</th>\n",
       "      <td>32446.000000</td>\n",
       "      <td>3.244600e+04</td>\n",
       "      <td>32446.000000</td>\n",
       "      <td>32446.000000</td>\n",
       "      <td>32446.00000</td>\n",
       "      <td>10024.000000</td>\n",
       "      <td>32446.000000</td>\n",
       "      <td>32446.000000</td>\n",
       "      <td>32446.000000</td>\n",
       "      <td>32446.000000</td>\n",
       "      <td>...</td>\n",
       "      <td>32446.000000</td>\n",
       "      <td>32446.000000</td>\n",
       "      <td>32446.000000</td>\n",
       "      <td>32446.000000</td>\n",
       "      <td>32446.000000</td>\n",
       "      <td>32446.000000</td>\n",
       "      <td>32446.000000</td>\n",
       "      <td>32446.000000</td>\n",
       "      <td>32446.000000</td>\n",
       "      <td>32446.000000</td>\n",
       "    </tr>\n",
       "    <tr>\n",
       "      <th>mean</th>\n",
       "      <td>16223.500000</td>\n",
       "      <td>7.062130e+05</td>\n",
       "      <td>0.163163</td>\n",
       "      <td>79.671916</td>\n",
       "      <td>-69.42375</td>\n",
       "      <td>50.305866</td>\n",
       "      <td>255.988442</td>\n",
       "      <td>0.093201</td>\n",
       "      <td>0.216914</td>\n",
       "      <td>0.380941</td>\n",
       "      <td>...</td>\n",
       "      <td>2.664304</td>\n",
       "      <td>1.135548</td>\n",
       "      <td>3.819978</td>\n",
       "      <td>4.983141</td>\n",
       "      <td>205.754176</td>\n",
       "      <td>0.561595</td>\n",
       "      <td>0.020615</td>\n",
       "      <td>0.417790</td>\n",
       "      <td>11.020249</td>\n",
       "      <td>321.058312</td>\n",
       "    </tr>\n",
       "    <tr>\n",
       "      <th>std</th>\n",
       "      <td>9366.497754</td>\n",
       "      <td>5.486818e+05</td>\n",
       "      <td>0.479707</td>\n",
       "      <td>41.027368</td>\n",
       "      <td>49.27415</td>\n",
       "      <td>82.044471</td>\n",
       "      <td>13.182773</td>\n",
       "      <td>0.290718</td>\n",
       "      <td>0.412150</td>\n",
       "      <td>0.485626</td>\n",
       "      <td>...</td>\n",
       "      <td>0.472241</td>\n",
       "      <td>0.342314</td>\n",
       "      <td>2.885440</td>\n",
       "      <td>0.950003</td>\n",
       "      <td>45.853054</td>\n",
       "      <td>0.139548</td>\n",
       "      <td>0.035347</td>\n",
       "      <td>0.148151</td>\n",
       "      <td>2.649248</td>\n",
       "      <td>139.315641</td>\n",
       "    </tr>\n",
       "    <tr>\n",
       "      <th>min</th>\n",
       "      <td>1.000000</td>\n",
       "      <td>3.733000e+03</td>\n",
       "      <td>0.000000</td>\n",
       "      <td>30.000000</td>\n",
       "      <td>-322.00000</td>\n",
       "      <td>-317.000000</td>\n",
       "      <td>234.000000</td>\n",
       "      <td>0.000000</td>\n",
       "      <td>0.000000</td>\n",
       "      <td>0.000000</td>\n",
       "      <td>...</td>\n",
       "      <td>2.000000</td>\n",
       "      <td>1.000000</td>\n",
       "      <td>0.000000</td>\n",
       "      <td>3.000000</td>\n",
       "      <td>100.000000</td>\n",
       "      <td>0.500000</td>\n",
       "      <td>0.000000</td>\n",
       "      <td>0.000000</td>\n",
       "      <td>7.000000</td>\n",
       "      <td>106.000000</td>\n",
       "    </tr>\n",
       "    <tr>\n",
       "      <th>25%</th>\n",
       "      <td>8112.250000</td>\n",
       "      <td>5.084160e+05</td>\n",
       "      <td>0.000000</td>\n",
       "      <td>60.000000</td>\n",
       "      <td>-100.00000</td>\n",
       "      <td>-1.000000</td>\n",
       "      <td>241.000000</td>\n",
       "      <td>0.000000</td>\n",
       "      <td>0.000000</td>\n",
       "      <td>0.000000</td>\n",
       "      <td>...</td>\n",
       "      <td>2.000000</td>\n",
       "      <td>1.000000</td>\n",
       "      <td>0.000000</td>\n",
       "      <td>4.000000</td>\n",
       "      <td>200.000000</td>\n",
       "      <td>0.500000</td>\n",
       "      <td>0.000000</td>\n",
       "      <td>0.375000</td>\n",
       "      <td>10.000000</td>\n",
       "      <td>207.000000</td>\n",
       "    </tr>\n",
       "    <tr>\n",
       "      <th>50%</th>\n",
       "      <td>16223.500000</td>\n",
       "      <td>5.900790e+05</td>\n",
       "      <td>0.000000</td>\n",
       "      <td>60.000000</td>\n",
       "      <td>-57.00000</td>\n",
       "      <td>29.000000</td>\n",
       "      <td>262.000000</td>\n",
       "      <td>0.000000</td>\n",
       "      <td>0.000000</td>\n",
       "      <td>0.000000</td>\n",
       "      <td>...</td>\n",
       "      <td>3.000000</td>\n",
       "      <td>1.000000</td>\n",
       "      <td>5.000000</td>\n",
       "      <td>5.000000</td>\n",
       "      <td>200.000000</td>\n",
       "      <td>0.500000</td>\n",
       "      <td>0.000000</td>\n",
       "      <td>0.500000</td>\n",
       "      <td>10.000000</td>\n",
       "      <td>315.000000</td>\n",
       "    </tr>\n",
       "    <tr>\n",
       "      <th>75%</th>\n",
       "      <td>24334.750000</td>\n",
       "      <td>6.441362e+05</td>\n",
       "      <td>0.000000</td>\n",
       "      <td>120.000000</td>\n",
       "      <td>-29.00000</td>\n",
       "      <td>109.000000</td>\n",
       "      <td>268.000000</td>\n",
       "      <td>0.000000</td>\n",
       "      <td>0.000000</td>\n",
       "      <td>1.000000</td>\n",
       "      <td>...</td>\n",
       "      <td>3.000000</td>\n",
       "      <td>1.000000</td>\n",
       "      <td>7.000000</td>\n",
       "      <td>6.000000</td>\n",
       "      <td>200.000000</td>\n",
       "      <td>0.500000</td>\n",
       "      <td>0.025000</td>\n",
       "      <td>0.500000</td>\n",
       "      <td>11.000000</td>\n",
       "      <td>453.000000</td>\n",
       "    </tr>\n",
       "    <tr>\n",
       "      <th>max</th>\n",
       "      <td>32446.000000</td>\n",
       "      <td>2.698591e+06</td>\n",
       "      <td>6.000000</td>\n",
       "      <td>655.000000</td>\n",
       "      <td>167.00000</td>\n",
       "      <td>444.000000</td>\n",
       "      <td>269.000000</td>\n",
       "      <td>1.000000</td>\n",
       "      <td>1.000000</td>\n",
       "      <td>1.000000</td>\n",
       "      <td>...</td>\n",
       "      <td>3.000000</td>\n",
       "      <td>2.000000</td>\n",
       "      <td>7.000000</td>\n",
       "      <td>6.000000</td>\n",
       "      <td>300.000000</td>\n",
       "      <td>1.000000</td>\n",
       "      <td>0.125000</td>\n",
       "      <td>0.500000</td>\n",
       "      <td>16.000000</td>\n",
       "      <td>529.000000</td>\n",
       "    </tr>\n",
       "  </tbody>\n",
       "</table>\n",
       "<p>8 rows × 21 columns</p>\n",
       "</div>"
      ],
      "text/plain": [
       "         Unnamed: 0    id_student  num_of_prev_attempts  studied_credits  \\\n",
       "count  32446.000000  3.244600e+04          32446.000000     32446.000000   \n",
       "mean   16223.500000  7.062130e+05              0.163163        79.671916   \n",
       "std     9366.497754  5.486818e+05              0.479707        41.027368   \n",
       "min        1.000000  3.733000e+03              0.000000        30.000000   \n",
       "25%     8112.250000  5.084160e+05              0.000000        60.000000   \n",
       "50%    16223.500000  5.900790e+05              0.000000        60.000000   \n",
       "75%    24334.750000  6.441362e+05              0.000000       120.000000   \n",
       "max    32446.000000  2.698591e+06              6.000000       655.000000   \n",
       "\n",
       "       date_registration  date_unregistration  module_presentation_length  \\\n",
       "count        32446.00000         10024.000000                32446.000000   \n",
       "mean           -69.42375            50.305866                  255.988442   \n",
       "std             49.27415            82.044471                   13.182773   \n",
       "min           -322.00000          -317.000000                  234.000000   \n",
       "25%           -100.00000            -1.000000                  241.000000   \n",
       "50%            -57.00000            29.000000                  262.000000   \n",
       "75%            -29.00000           109.000000                  268.000000   \n",
       "max            167.00000           444.000000                  269.000000   \n",
       "\n",
       "        Distinction          Fail          Pass      ...        course_n_type  \\\n",
       "count  32446.000000  32446.000000  32446.000000      ...         32446.000000   \n",
       "mean       0.093201      0.216914      0.380941      ...             2.664304   \n",
       "std        0.290718      0.412150      0.485626      ...             0.472241   \n",
       "min        0.000000      0.000000      0.000000      ...             2.000000   \n",
       "25%        0.000000      0.000000      0.000000      ...             2.000000   \n",
       "50%        0.000000      0.000000      0.000000      ...             3.000000   \n",
       "75%        0.000000      0.000000      1.000000      ...             3.000000   \n",
       "max        1.000000      1.000000      1.000000      ...             3.000000   \n",
       "\n",
       "       course_n_Exam  course_n_CMA  course_n_TMA  course_weight_total  \\\n",
       "count   32446.000000  32446.000000  32446.000000         32446.000000   \n",
       "mean        1.135548      3.819978      4.983141           205.754176   \n",
       "std         0.342314      2.885440      0.950003            45.853054   \n",
       "min         1.000000      0.000000      3.000000           100.000000   \n",
       "25%         1.000000      0.000000      4.000000           200.000000   \n",
       "50%         1.000000      5.000000      5.000000           200.000000   \n",
       "75%         1.000000      7.000000      6.000000           200.000000   \n",
       "max         2.000000      7.000000      6.000000           300.000000   \n",
       "\n",
       "       course_weight_Exam  course_weight_CMA  course_weight_TMA  \\\n",
       "count        32446.000000       32446.000000       32446.000000   \n",
       "mean             0.561595           0.020615           0.417790   \n",
       "std              0.139548           0.035347           0.148151   \n",
       "min              0.500000           0.000000           0.000000   \n",
       "25%              0.500000           0.000000           0.375000   \n",
       "50%              0.500000           0.000000           0.500000   \n",
       "75%              0.500000           0.025000           0.500000   \n",
       "max              1.000000           0.125000           0.500000   \n",
       "\n",
       "       course_activity_n  course_site_n  \n",
       "count       32446.000000   32446.000000  \n",
       "mean           11.020249     321.058312  \n",
       "std             2.649248     139.315641  \n",
       "min             7.000000     106.000000  \n",
       "25%            10.000000     207.000000  \n",
       "50%            10.000000     315.000000  \n",
       "75%            11.000000     453.000000  \n",
       "max            16.000000     529.000000  \n",
       "\n",
       "[8 rows x 21 columns]"
      ]
     },
     "execution_count": 4287,
     "metadata": {},
     "output_type": "execute_result"
    }
   ],
   "source": [
    "course_student_all.describe()"
   ]
  },
  {
   "cell_type": "markdown",
   "metadata": {
    "deletable": true,
    "editable": true
   },
   "source": [
    "#### Subset for cutting off point\n",
    "- Remove those who registered after cut-off point\n",
    "- Remove those who unregistered before cut-off point"
   ]
  },
  {
   "cell_type": "code",
   "execution_count": 4288,
   "metadata": {
    "collapsed": true,
    "deletable": true,
    "editable": true
   },
   "outputs": [],
   "source": [
    "course_student_final = course_student_all[course_student_all['date_registration'] < cutoff_i]"
   ]
  },
  {
   "cell_type": "code",
   "execution_count": 4289,
   "metadata": {
    "collapsed": true,
    "deletable": true,
    "editable": true
   },
   "outputs": [],
   "source": [
    "course_student_final = course_student_final\\\n",
    "[(course_student_final['date_unregistration'].isnull()) | (course_student_final['date_unregistration'] > cutoff_i-1)]"
   ]
  },
  {
   "cell_type": "code",
   "execution_count": 4290,
   "metadata": {
    "collapsed": false,
    "deletable": true,
    "editable": true
   },
   "outputs": [
    {
     "data": {
      "text/plain": [
       "(24678, 30)"
      ]
     },
     "execution_count": 4290,
     "metadata": {},
     "output_type": "execute_result"
    }
   ],
   "source": [
    "course_student_final.shape"
   ]
  },
  {
   "cell_type": "markdown",
   "metadata": {
    "deletable": true,
    "editable": true
   },
   "source": [
    "### 2) Assessment table"
   ]
  },
  {
   "cell_type": "code",
   "execution_count": 4291,
   "metadata": {
    "collapsed": false,
    "deletable": true,
    "editable": true
   },
   "outputs": [
    {
     "data": {
      "text/plain": [
       "(173912, 25)"
      ]
     },
     "execution_count": 4291,
     "metadata": {},
     "output_type": "execute_result"
    }
   ],
   "source": [
    "assessment_student_all.shape"
   ]
  },
  {
   "cell_type": "code",
   "execution_count": 4292,
   "metadata": {
    "collapsed": false,
    "deletable": true,
    "editable": true
   },
   "outputs": [
    {
     "data": {
      "text/html": [
       "<div>\n",
       "<style>\n",
       "    .dataframe thead tr:only-child th {\n",
       "        text-align: right;\n",
       "    }\n",
       "\n",
       "    .dataframe thead th {\n",
       "        text-align: left;\n",
       "    }\n",
       "\n",
       "    .dataframe tbody tr th {\n",
       "        vertical-align: top;\n",
       "    }\n",
       "</style>\n",
       "<table border=\"1\" class=\"dataframe\">\n",
       "  <thead>\n",
       "    <tr style=\"text-align: right;\">\n",
       "      <th></th>\n",
       "      <th>Unnamed: 0</th>\n",
       "      <th>id_assessment</th>\n",
       "      <th>id_student</th>\n",
       "      <th>date_submitted</th>\n",
       "      <th>is_banked</th>\n",
       "      <th>score</th>\n",
       "      <th>date</th>\n",
       "      <th>weight</th>\n",
       "      <th>CMA</th>\n",
       "      <th>Exam</th>\n",
       "      <th>...</th>\n",
       "      <th>course_n_assessment</th>\n",
       "      <th>course_n_Exam</th>\n",
       "      <th>course_n_CMA</th>\n",
       "      <th>course_n_TMA</th>\n",
       "      <th>number_of_assess</th>\n",
       "      <th>number_of_assess_r</th>\n",
       "      <th>number_of_assess_lag</th>\n",
       "      <th>score_lag</th>\n",
       "      <th>score_dif</th>\n",
       "      <th>total_score</th>\n",
       "    </tr>\n",
       "  </thead>\n",
       "  <tbody>\n",
       "    <tr>\n",
       "      <th>count</th>\n",
       "      <td>173912.000000</td>\n",
       "      <td>173912.000000</td>\n",
       "      <td>1.739120e+05</td>\n",
       "      <td>173912.000000</td>\n",
       "      <td>173912.000000</td>\n",
       "      <td>173912.000000</td>\n",
       "      <td>173912.000000</td>\n",
       "      <td>173912.000000</td>\n",
       "      <td>173912.000000</td>\n",
       "      <td>173912.000000</td>\n",
       "      <td>...</td>\n",
       "      <td>173912.000000</td>\n",
       "      <td>173912.000000</td>\n",
       "      <td>173912.000000</td>\n",
       "      <td>173912.000000</td>\n",
       "      <td>173912.000000</td>\n",
       "      <td>173912.000000</td>\n",
       "      <td>173912.000000</td>\n",
       "      <td>148069.000000</td>\n",
       "      <td>148069.000000</td>\n",
       "      <td>173912.000000</td>\n",
       "    </tr>\n",
       "    <tr>\n",
       "      <th>mean</th>\n",
       "      <td>86956.500000</td>\n",
       "      <td>26553.803556</td>\n",
       "      <td>7.051507e+05</td>\n",
       "      <td>116.032942</td>\n",
       "      <td>0.010977</td>\n",
       "      <td>75.724171</td>\n",
       "      <td>132.727006</td>\n",
       "      <td>12.743899</td>\n",
       "      <td>0.405533</td>\n",
       "      <td>0.028514</td>\n",
       "      <td>...</td>\n",
       "      <td>10.770614</td>\n",
       "      <td>1.108906</td>\n",
       "      <td>4.608710</td>\n",
       "      <td>5.052998</td>\n",
       "      <td>4.921518</td>\n",
       "      <td>4.921518</td>\n",
       "      <td>3.921518</td>\n",
       "      <td>76.729511</td>\n",
       "      <td>-0.515550</td>\n",
       "      <td>9.088426</td>\n",
       "    </tr>\n",
       "    <tr>\n",
       "      <th>std</th>\n",
       "      <td>50204.214345</td>\n",
       "      <td>8829.784254</td>\n",
       "      <td>5.523952e+05</td>\n",
       "      <td>71.484148</td>\n",
       "      <td>0.104194</td>\n",
       "      <td>18.940093</td>\n",
       "      <td>79.110198</td>\n",
       "      <td>17.877301</td>\n",
       "      <td>0.490996</td>\n",
       "      <td>0.166438</td>\n",
       "      <td>...</td>\n",
       "      <td>2.680086</td>\n",
       "      <td>0.311522</td>\n",
       "      <td>2.672168</td>\n",
       "      <td>0.940125</td>\n",
       "      <td>3.146100</td>\n",
       "      <td>3.146100</td>\n",
       "      <td>3.146100</td>\n",
       "      <td>18.085162</td>\n",
       "      <td>19.450793</td>\n",
       "      <td>12.750937</td>\n",
       "    </tr>\n",
       "    <tr>\n",
       "      <th>min</th>\n",
       "      <td>1.000000</td>\n",
       "      <td>1752.000000</td>\n",
       "      <td>6.516000e+03</td>\n",
       "      <td>-11.000000</td>\n",
       "      <td>0.000000</td>\n",
       "      <td>0.000000</td>\n",
       "      <td>12.000000</td>\n",
       "      <td>0.000000</td>\n",
       "      <td>0.000000</td>\n",
       "      <td>0.000000</td>\n",
       "      <td>...</td>\n",
       "      <td>5.000000</td>\n",
       "      <td>1.000000</td>\n",
       "      <td>0.000000</td>\n",
       "      <td>3.000000</td>\n",
       "      <td>1.000000</td>\n",
       "      <td>1.000000</td>\n",
       "      <td>0.000000</td>\n",
       "      <td>0.000000</td>\n",
       "      <td>-100.000000</td>\n",
       "      <td>0.000000</td>\n",
       "    </tr>\n",
       "    <tr>\n",
       "      <th>25%</th>\n",
       "      <td>43478.750000</td>\n",
       "      <td>15022.000000</td>\n",
       "      <td>5.044290e+05</td>\n",
       "      <td>51.000000</td>\n",
       "      <td>0.000000</td>\n",
       "      <td>65.000000</td>\n",
       "      <td>54.000000</td>\n",
       "      <td>0.000000</td>\n",
       "      <td>0.000000</td>\n",
       "      <td>0.000000</td>\n",
       "      <td>...</td>\n",
       "      <td>10.000000</td>\n",
       "      <td>1.000000</td>\n",
       "      <td>4.000000</td>\n",
       "      <td>5.000000</td>\n",
       "      <td>2.000000</td>\n",
       "      <td>2.000000</td>\n",
       "      <td>1.000000</td>\n",
       "      <td>67.000000</td>\n",
       "      <td>-11.000000</td>\n",
       "      <td>0.000000</td>\n",
       "    </tr>\n",
       "    <tr>\n",
       "      <th>50%</th>\n",
       "      <td>86956.500000</td>\n",
       "      <td>25359.000000</td>\n",
       "      <td>5.852080e+05</td>\n",
       "      <td>116.000000</td>\n",
       "      <td>0.000000</td>\n",
       "      <td>80.000000</td>\n",
       "      <td>131.000000</td>\n",
       "      <td>9.000000</td>\n",
       "      <td>0.000000</td>\n",
       "      <td>0.000000</td>\n",
       "      <td>...</td>\n",
       "      <td>12.000000</td>\n",
       "      <td>1.000000</td>\n",
       "      <td>5.000000</td>\n",
       "      <td>5.000000</td>\n",
       "      <td>4.000000</td>\n",
       "      <td>4.000000</td>\n",
       "      <td>3.000000</td>\n",
       "      <td>80.000000</td>\n",
       "      <td>0.000000</td>\n",
       "      <td>6.230000</td>\n",
       "    </tr>\n",
       "    <tr>\n",
       "      <th>75%</th>\n",
       "      <td>130434.250000</td>\n",
       "      <td>34883.000000</td>\n",
       "      <td>6.344980e+05</td>\n",
       "      <td>173.000000</td>\n",
       "      <td>0.000000</td>\n",
       "      <td>90.000000</td>\n",
       "      <td>222.000000</td>\n",
       "      <td>18.000000</td>\n",
       "      <td>1.000000</td>\n",
       "      <td>0.000000</td>\n",
       "      <td>...</td>\n",
       "      <td>13.000000</td>\n",
       "      <td>1.000000</td>\n",
       "      <td>7.000000</td>\n",
       "      <td>6.000000</td>\n",
       "      <td>7.000000</td>\n",
       "      <td>7.000000</td>\n",
       "      <td>6.000000</td>\n",
       "      <td>90.000000</td>\n",
       "      <td>10.000000</td>\n",
       "      <td>13.650000</td>\n",
       "    </tr>\n",
       "    <tr>\n",
       "      <th>max</th>\n",
       "      <td>173912.000000</td>\n",
       "      <td>37443.000000</td>\n",
       "      <td>2.698588e+06</td>\n",
       "      <td>608.000000</td>\n",
       "      <td>1.000000</td>\n",
       "      <td>100.000000</td>\n",
       "      <td>269.000000</td>\n",
       "      <td>100.000000</td>\n",
       "      <td>1.000000</td>\n",
       "      <td>1.000000</td>\n",
       "      <td>...</td>\n",
       "      <td>14.000000</td>\n",
       "      <td>2.000000</td>\n",
       "      <td>7.000000</td>\n",
       "      <td>6.000000</td>\n",
       "      <td>14.000000</td>\n",
       "      <td>14.000000</td>\n",
       "      <td>13.000000</td>\n",
       "      <td>100.000000</td>\n",
       "      <td>100.000000</td>\n",
       "      <td>100.000000</td>\n",
       "    </tr>\n",
       "  </tbody>\n",
       "</table>\n",
       "<p>8 rows × 22 columns</p>\n",
       "</div>"
      ],
      "text/plain": [
       "          Unnamed: 0  id_assessment    id_student  date_submitted  \\\n",
       "count  173912.000000  173912.000000  1.739120e+05   173912.000000   \n",
       "mean    86956.500000   26553.803556  7.051507e+05      116.032942   \n",
       "std     50204.214345    8829.784254  5.523952e+05       71.484148   \n",
       "min         1.000000    1752.000000  6.516000e+03      -11.000000   \n",
       "25%     43478.750000   15022.000000  5.044290e+05       51.000000   \n",
       "50%     86956.500000   25359.000000  5.852080e+05      116.000000   \n",
       "75%    130434.250000   34883.000000  6.344980e+05      173.000000   \n",
       "max    173912.000000   37443.000000  2.698588e+06      608.000000   \n",
       "\n",
       "           is_banked          score           date         weight  \\\n",
       "count  173912.000000  173912.000000  173912.000000  173912.000000   \n",
       "mean        0.010977      75.724171     132.727006      12.743899   \n",
       "std         0.104194      18.940093      79.110198      17.877301   \n",
       "min         0.000000       0.000000      12.000000       0.000000   \n",
       "25%         0.000000      65.000000      54.000000       0.000000   \n",
       "50%         0.000000      80.000000     131.000000       9.000000   \n",
       "75%         0.000000      90.000000     222.000000      18.000000   \n",
       "max         1.000000     100.000000     269.000000     100.000000   \n",
       "\n",
       "                 CMA           Exam      ...        course_n_assessment  \\\n",
       "count  173912.000000  173912.000000      ...              173912.000000   \n",
       "mean        0.405533       0.028514      ...                  10.770614   \n",
       "std         0.490996       0.166438      ...                   2.680086   \n",
       "min         0.000000       0.000000      ...                   5.000000   \n",
       "25%         0.000000       0.000000      ...                  10.000000   \n",
       "50%         0.000000       0.000000      ...                  12.000000   \n",
       "75%         1.000000       0.000000      ...                  13.000000   \n",
       "max         1.000000       1.000000      ...                  14.000000   \n",
       "\n",
       "       course_n_Exam   course_n_CMA   course_n_TMA  number_of_assess  \\\n",
       "count  173912.000000  173912.000000  173912.000000     173912.000000   \n",
       "mean        1.108906       4.608710       5.052998          4.921518   \n",
       "std         0.311522       2.672168       0.940125          3.146100   \n",
       "min         1.000000       0.000000       3.000000          1.000000   \n",
       "25%         1.000000       4.000000       5.000000          2.000000   \n",
       "50%         1.000000       5.000000       5.000000          4.000000   \n",
       "75%         1.000000       7.000000       6.000000          7.000000   \n",
       "max         2.000000       7.000000       6.000000         14.000000   \n",
       "\n",
       "       number_of_assess_r  number_of_assess_lag      score_lag      score_dif  \\\n",
       "count       173912.000000         173912.000000  148069.000000  148069.000000   \n",
       "mean             4.921518              3.921518      76.729511      -0.515550   \n",
       "std              3.146100              3.146100      18.085162      19.450793   \n",
       "min              1.000000              0.000000       0.000000    -100.000000   \n",
       "25%              2.000000              1.000000      67.000000     -11.000000   \n",
       "50%              4.000000              3.000000      80.000000       0.000000   \n",
       "75%              7.000000              6.000000      90.000000      10.000000   \n",
       "max             14.000000             13.000000     100.000000     100.000000   \n",
       "\n",
       "         total_score  \n",
       "count  173912.000000  \n",
       "mean        9.088426  \n",
       "std        12.750937  \n",
       "min         0.000000  \n",
       "25%         0.000000  \n",
       "50%         6.230000  \n",
       "75%        13.650000  \n",
       "max       100.000000  \n",
       "\n",
       "[8 rows x 22 columns]"
      ]
     },
     "execution_count": 4292,
     "metadata": {},
     "output_type": "execute_result"
    }
   ],
   "source": [
    "assessment_student_all.describe()"
   ]
  },
  {
   "cell_type": "markdown",
   "metadata": {
    "deletable": true,
    "editable": true
   },
   "source": [
    "#### Subset for cutting off point\n",
    "- Only keep the results happened before cut-off point"
   ]
  },
  {
   "cell_type": "code",
   "execution_count": 4293,
   "metadata": {
    "collapsed": true,
    "deletable": true,
    "editable": true
   },
   "outputs": [],
   "source": [
    "assessment_student = assessment_student_all[assessment_student_all['date_submitted'] < cutoff_i]"
   ]
  },
  {
   "cell_type": "markdown",
   "metadata": {
    "deletable": true,
    "editable": true
   },
   "source": [
    "#### Create the last score variables\n",
    "- Last score before cut-off point"
   ]
  },
  {
   "cell_type": "code",
   "execution_count": 4294,
   "metadata": {
    "collapsed": true,
    "deletable": true,
    "editable": true
   },
   "outputs": [],
   "source": [
    "assessment_student['number_of_assess_r'] = assessment_student.groupby(['code_module','code_presentation','id_student'])\\\n",
    "['date_submitted'].rank(ascending=False, method='first')"
   ]
  },
  {
   "cell_type": "code",
   "execution_count": 4295,
   "metadata": {
    "collapsed": true,
    "deletable": true,
    "editable": true
   },
   "outputs": [],
   "source": [
    "last_score = assessment_student[assessment_student['number_of_assess_r'] == 1]"
   ]
  },
  {
   "cell_type": "code",
   "execution_count": 4296,
   "metadata": {
    "collapsed": true,
    "deletable": true,
    "editable": true
   },
   "outputs": [],
   "source": [
    "last_score = last_score[['code_module','code_presentation','id_student','score','CMA','TMA','Exam']]"
   ]
  },
  {
   "cell_type": "code",
   "execution_count": 4297,
   "metadata": {
    "collapsed": true,
    "deletable": true,
    "editable": true
   },
   "outputs": [],
   "source": [
    "last_score = last_score.rename(columns={'score': 'last_score', 'CMA': 'last_cma','TMA':'last_tma','Exam':'last_exam'})"
   ]
  },
  {
   "cell_type": "markdown",
   "metadata": {
    "deletable": true,
    "editable": true
   },
   "source": [
    "#### Create aggregate attributes"
   ]
  },
  {
   "cell_type": "code",
   "execution_count": 4298,
   "metadata": {
    "collapsed": true,
    "deletable": true,
    "editable": true
   },
   "outputs": [],
   "source": [
    "agg_assess = {'score': {'mean_score':'mean', 'sd_score': 'std', 'n_assess':'count'},\\\n",
    "              'score_dif':{'ma_score':'mean'},\\\n",
    "              'total_score': {'cum_total_score':'sum'},\\\n",
    "              'Exam': {'n_exam':'sum'},\\\n",
    "              'CMA': {'n_cma':'sum'},\\\n",
    "              'TMA': {'n_tma':'sum'},\\\n",
    "              'is_banked':{'is_banked':'mean'}}"
   ]
  },
  {
   "cell_type": "code",
   "execution_count": 4299,
   "metadata": {
    "collapsed": true,
    "deletable": true,
    "editable": true
   },
   "outputs": [],
   "source": [
    "assessment_student_final = assessment_student.groupby(['code_module','code_presentation','id_student']).\\\n",
    "agg(agg_assess)"
   ]
  },
  {
   "cell_type": "code",
   "execution_count": 4300,
   "metadata": {
    "collapsed": true,
    "deletable": true,
    "editable": true
   },
   "outputs": [],
   "source": [
    "assessment_student_final.columns = assessment_student_final.columns.droplevel()\n",
    "assessment_student_final = assessment_student_final.reset_index() "
   ]
  },
  {
   "cell_type": "code",
   "execution_count": 4301,
   "metadata": {
    "collapsed": true,
    "deletable": true,
    "editable": true
   },
   "outputs": [],
   "source": [
    "# get the percentile for cumscore/meanscore\n",
    "assessment_student_final['percentile_cum_score'] = assessment_student_final.\\\n",
    "groupby(['code_module','code_presentation'])['cum_total_score'].rank(pct = True)\n",
    "assessment_student_final['percentile_mean_score'] = assessment_student_final.\\\n",
    "groupby(['code_module','code_presentation'])['mean_score'].rank(pct = True)"
   ]
  },
  {
   "cell_type": "code",
   "execution_count": 4302,
   "metadata": {
    "collapsed": true,
    "deletable": true,
    "editable": true
   },
   "outputs": [],
   "source": [
    "# match last score\n",
    "assessment_student_final = assessment_student_final.merge(last_score, how='left')"
   ]
  },
  {
   "cell_type": "code",
   "execution_count": 4303,
   "metadata": {
    "collapsed": false,
    "deletable": true,
    "editable": true
   },
   "outputs": [
    {
     "data": {
      "text/plain": [
       "(25782, 18)"
      ]
     },
     "execution_count": 4303,
     "metadata": {},
     "output_type": "execute_result"
    }
   ],
   "source": [
    "assessment_student_final.shape"
   ]
  },
  {
   "cell_type": "markdown",
   "metadata": {
    "deletable": true,
    "editable": true
   },
   "source": [
    "### 3) Interaction table"
   ]
  },
  {
   "cell_type": "code",
   "execution_count": 4304,
   "metadata": {
    "collapsed": false,
    "deletable": true,
    "editable": true
   },
   "outputs": [
    {
     "data": {
      "text/plain": [
       "(8459320, 18)"
      ]
     },
     "execution_count": 4304,
     "metadata": {},
     "output_type": "execute_result"
    }
   ],
   "source": [
    "vle_student_all.shape"
   ]
  },
  {
   "cell_type": "code",
   "execution_count": 4305,
   "metadata": {
    "collapsed": false,
    "deletable": true,
    "editable": true
   },
   "outputs": [
    {
     "data": {
      "text/html": [
       "<div>\n",
       "<style>\n",
       "    .dataframe thead tr:only-child th {\n",
       "        text-align: right;\n",
       "    }\n",
       "\n",
       "    .dataframe thead th {\n",
       "        text-align: left;\n",
       "    }\n",
       "\n",
       "    .dataframe tbody tr th {\n",
       "        vertical-align: top;\n",
       "    }\n",
       "</style>\n",
       "<table border=\"1\" class=\"dataframe\">\n",
       "  <thead>\n",
       "    <tr style=\"text-align: right;\">\n",
       "      <th></th>\n",
       "      <th>Unnamed: 0</th>\n",
       "      <th>id_student</th>\n",
       "      <th>id_site</th>\n",
       "      <th>date</th>\n",
       "      <th>sum_click</th>\n",
       "      <th>week_from</th>\n",
       "      <th>week_to</th>\n",
       "      <th>course_activity_n</th>\n",
       "      <th>course_site_n</th>\n",
       "      <th>subpage_click</th>\n",
       "      <th>homepage_click</th>\n",
       "      <th>oucontent_click</th>\n",
       "      <th>forumng_click</th>\n",
       "      <th>resource_click</th>\n",
       "      <th>url_click</th>\n",
       "    </tr>\n",
       "  </thead>\n",
       "  <tbody>\n",
       "    <tr>\n",
       "      <th>count</th>\n",
       "      <td>8.459320e+06</td>\n",
       "      <td>8.459320e+06</td>\n",
       "      <td>8.459320e+06</td>\n",
       "      <td>8.459320e+06</td>\n",
       "      <td>8.459320e+06</td>\n",
       "      <td>1.223593e+06</td>\n",
       "      <td>1.223593e+06</td>\n",
       "      <td>8.459320e+06</td>\n",
       "      <td>8.459320e+06</td>\n",
       "      <td>8.459320e+06</td>\n",
       "      <td>8.459320e+06</td>\n",
       "      <td>8.459320e+06</td>\n",
       "      <td>8.459320e+06</td>\n",
       "      <td>8.459320e+06</td>\n",
       "      <td>8.459320e+06</td>\n",
       "    </tr>\n",
       "    <tr>\n",
       "      <th>mean</th>\n",
       "      <td>4.229660e+06</td>\n",
       "      <td>7.332399e+05</td>\n",
       "      <td>7.351661e+05</td>\n",
       "      <td>9.393650e+01</td>\n",
       "      <td>4.066844e+00</td>\n",
       "      <td>1.053743e+01</td>\n",
       "      <td>1.056458e+01</td>\n",
       "      <td>1.196184e+01</td>\n",
       "      <td>3.649144e+02</td>\n",
       "      <td>4.032927e-01</td>\n",
       "      <td>8.214684e-01</td>\n",
       "      <td>1.248183e+00</td>\n",
       "      <td>5.744468e-01</td>\n",
       "      <td>1.262428e-01</td>\n",
       "      <td>6.699144e-02</td>\n",
       "    </tr>\n",
       "    <tr>\n",
       "      <th>std</th>\n",
       "      <td>2.441995e+06</td>\n",
       "      <td>5.846966e+05</td>\n",
       "      <td>1.307907e+05</td>\n",
       "      <td>7.598022e+01</td>\n",
       "      <td>9.756265e+00</td>\n",
       "      <td>8.373725e+00</td>\n",
       "      <td>8.352738e+00</td>\n",
       "      <td>2.826548e+00</td>\n",
       "      <td>1.412495e+02</td>\n",
       "      <td>1.733989e+00</td>\n",
       "      <td>3.838690e+00</td>\n",
       "      <td>5.660596e+00</td>\n",
       "      <td>2.288682e+00</td>\n",
       "      <td>3.015881e+00</td>\n",
       "      <td>4.029106e-01</td>\n",
       "    </tr>\n",
       "    <tr>\n",
       "      <th>min</th>\n",
       "      <td>1.000000e+00</td>\n",
       "      <td>6.516000e+03</td>\n",
       "      <td>5.267210e+05</td>\n",
       "      <td>-2.500000e+01</td>\n",
       "      <td>1.000000e+00</td>\n",
       "      <td>0.000000e+00</td>\n",
       "      <td>0.000000e+00</td>\n",
       "      <td>7.000000e+00</td>\n",
       "      <td>1.060000e+02</td>\n",
       "      <td>0.000000e+00</td>\n",
       "      <td>0.000000e+00</td>\n",
       "      <td>0.000000e+00</td>\n",
       "      <td>0.000000e+00</td>\n",
       "      <td>0.000000e+00</td>\n",
       "      <td>0.000000e+00</td>\n",
       "    </tr>\n",
       "    <tr>\n",
       "      <th>25%</th>\n",
       "      <td>2.114831e+06</td>\n",
       "      <td>5.057670e+05</td>\n",
       "      <td>6.735190e+05</td>\n",
       "      <td>2.400000e+01</td>\n",
       "      <td>1.000000e+00</td>\n",
       "      <td>3.000000e+00</td>\n",
       "      <td>3.000000e+00</td>\n",
       "      <td>1.000000e+01</td>\n",
       "      <td>2.230000e+02</td>\n",
       "      <td>0.000000e+00</td>\n",
       "      <td>0.000000e+00</td>\n",
       "      <td>0.000000e+00</td>\n",
       "      <td>0.000000e+00</td>\n",
       "      <td>0.000000e+00</td>\n",
       "      <td>0.000000e+00</td>\n",
       "    </tr>\n",
       "    <tr>\n",
       "      <th>50%</th>\n",
       "      <td>4.229660e+06</td>\n",
       "      <td>5.875500e+05</td>\n",
       "      <td>7.300350e+05</td>\n",
       "      <td>8.500000e+01</td>\n",
       "      <td>2.000000e+00</td>\n",
       "      <td>9.000000e+00</td>\n",
       "      <td>9.000000e+00</td>\n",
       "      <td>1.100000e+01</td>\n",
       "      <td>4.280000e+02</td>\n",
       "      <td>0.000000e+00</td>\n",
       "      <td>0.000000e+00</td>\n",
       "      <td>0.000000e+00</td>\n",
       "      <td>0.000000e+00</td>\n",
       "      <td>0.000000e+00</td>\n",
       "      <td>0.000000e+00</td>\n",
       "    </tr>\n",
       "    <tr>\n",
       "      <th>75%</th>\n",
       "      <td>6.344490e+06</td>\n",
       "      <td>6.459970e+05</td>\n",
       "      <td>8.327600e+05</td>\n",
       "      <td>1.550000e+02</td>\n",
       "      <td>4.000000e+00</td>\n",
       "      <td>1.800000e+01</td>\n",
       "      <td>1.800000e+01</td>\n",
       "      <td>1.500000e+01</td>\n",
       "      <td>4.780000e+02</td>\n",
       "      <td>0.000000e+00</td>\n",
       "      <td>0.000000e+00</td>\n",
       "      <td>0.000000e+00</td>\n",
       "      <td>0.000000e+00</td>\n",
       "      <td>0.000000e+00</td>\n",
       "      <td>0.000000e+00</td>\n",
       "    </tr>\n",
       "    <tr>\n",
       "      <th>max</th>\n",
       "      <td>8.459320e+06</td>\n",
       "      <td>2.698588e+06</td>\n",
       "      <td>1.049562e+06</td>\n",
       "      <td>2.690000e+02</td>\n",
       "      <td>6.977000e+03</td>\n",
       "      <td>2.900000e+01</td>\n",
       "      <td>2.900000e+01</td>\n",
       "      <td>1.600000e+01</td>\n",
       "      <td>5.290000e+02</td>\n",
       "      <td>3.958000e+03</td>\n",
       "      <td>6.977000e+03</td>\n",
       "      <td>3.725000e+03</td>\n",
       "      <td>4.030000e+02</td>\n",
       "      <td>4.953000e+03</td>\n",
       "      <td>3.580000e+02</td>\n",
       "    </tr>\n",
       "  </tbody>\n",
       "</table>\n",
       "</div>"
      ],
      "text/plain": [
       "         Unnamed: 0    id_student       id_site          date     sum_click  \\\n",
       "count  8.459320e+06  8.459320e+06  8.459320e+06  8.459320e+06  8.459320e+06   \n",
       "mean   4.229660e+06  7.332399e+05  7.351661e+05  9.393650e+01  4.066844e+00   \n",
       "std    2.441995e+06  5.846966e+05  1.307907e+05  7.598022e+01  9.756265e+00   \n",
       "min    1.000000e+00  6.516000e+03  5.267210e+05 -2.500000e+01  1.000000e+00   \n",
       "25%    2.114831e+06  5.057670e+05  6.735190e+05  2.400000e+01  1.000000e+00   \n",
       "50%    4.229660e+06  5.875500e+05  7.300350e+05  8.500000e+01  2.000000e+00   \n",
       "75%    6.344490e+06  6.459970e+05  8.327600e+05  1.550000e+02  4.000000e+00   \n",
       "max    8.459320e+06  2.698588e+06  1.049562e+06  2.690000e+02  6.977000e+03   \n",
       "\n",
       "          week_from       week_to  course_activity_n  course_site_n  \\\n",
       "count  1.223593e+06  1.223593e+06       8.459320e+06   8.459320e+06   \n",
       "mean   1.053743e+01  1.056458e+01       1.196184e+01   3.649144e+02   \n",
       "std    8.373725e+00  8.352738e+00       2.826548e+00   1.412495e+02   \n",
       "min    0.000000e+00  0.000000e+00       7.000000e+00   1.060000e+02   \n",
       "25%    3.000000e+00  3.000000e+00       1.000000e+01   2.230000e+02   \n",
       "50%    9.000000e+00  9.000000e+00       1.100000e+01   4.280000e+02   \n",
       "75%    1.800000e+01  1.800000e+01       1.500000e+01   4.780000e+02   \n",
       "max    2.900000e+01  2.900000e+01       1.600000e+01   5.290000e+02   \n",
       "\n",
       "       subpage_click  homepage_click  oucontent_click  forumng_click  \\\n",
       "count   8.459320e+06    8.459320e+06     8.459320e+06   8.459320e+06   \n",
       "mean    4.032927e-01    8.214684e-01     1.248183e+00   5.744468e-01   \n",
       "std     1.733989e+00    3.838690e+00     5.660596e+00   2.288682e+00   \n",
       "min     0.000000e+00    0.000000e+00     0.000000e+00   0.000000e+00   \n",
       "25%     0.000000e+00    0.000000e+00     0.000000e+00   0.000000e+00   \n",
       "50%     0.000000e+00    0.000000e+00     0.000000e+00   0.000000e+00   \n",
       "75%     0.000000e+00    0.000000e+00     0.000000e+00   0.000000e+00   \n",
       "max     3.958000e+03    6.977000e+03     3.725000e+03   4.030000e+02   \n",
       "\n",
       "       resource_click     url_click  \n",
       "count    8.459320e+06  8.459320e+06  \n",
       "mean     1.262428e-01  6.699144e-02  \n",
       "std      3.015881e+00  4.029106e-01  \n",
       "min      0.000000e+00  0.000000e+00  \n",
       "25%      0.000000e+00  0.000000e+00  \n",
       "50%      0.000000e+00  0.000000e+00  \n",
       "75%      0.000000e+00  0.000000e+00  \n",
       "max      4.953000e+03  3.580000e+02  "
      ]
     },
     "execution_count": 4305,
     "metadata": {},
     "output_type": "execute_result"
    }
   ],
   "source": [
    "vle_student_all.describe()"
   ]
  },
  {
   "cell_type": "markdown",
   "metadata": {
    "deletable": true,
    "editable": true
   },
   "source": [
    "#### Subset for cutting off point\n",
    "- Only keep the results happened before cut-off point"
   ]
  },
  {
   "cell_type": "code",
   "execution_count": 4306,
   "metadata": {
    "collapsed": true,
    "deletable": true,
    "editable": true
   },
   "outputs": [],
   "source": [
    "vle_student = vle_student_all[vle_student_all['date'] < cutoff_i]"
   ]
  },
  {
   "cell_type": "markdown",
   "metadata": {
    "deletable": true,
    "editable": true
   },
   "source": [
    "#### Create aggregate attributes"
   ]
  },
  {
   "cell_type": "code",
   "execution_count": 4307,
   "metadata": {
    "collapsed": true,
    "deletable": true,
    "editable": true
   },
   "outputs": [],
   "source": [
    "agg_vle = {'date':{'total_active_day': 'nunique'},\\\n",
    "           'id_site': {'total_site':'count','total_uni_site': 'nunique'},\\\n",
    "           'subpage_click': {'total_visit_subpage':'count', 'total_click_subpage':'sum'},\\\n",
    "           'homepage_click': {'total_visit_homepage':'count', 'total_click_homepage':'sum'},\\\n",
    "           'oucontent_click': {'total_visit_oucontent':'count', 'total_click_oucontent':'sum'},\\\n",
    "           'forumng_click': {'total_visit_forumng':'count','total_click_forumng':'sum'},\\\n",
    "           'resource_click': {'total_visit_resource':'count', 'total_click_resource':'sum'},\\\n",
    "           'url_click': {'total_visit_url':'count', 'total_click_url':'sum'}} #'date':{'total_active_day': 'nunique'},\\{'total_uni_site': 'nunique'}"
   ]
  },
  {
   "cell_type": "code",
   "execution_count": 4308,
   "metadata": {
    "collapsed": true,
    "deletable": true,
    "editable": true
   },
   "outputs": [],
   "source": [
    "vle_student_final = vle_student.groupby(['code_module','code_presentation','id_student']).\\\n",
    "agg(agg_vle)"
   ]
  },
  {
   "cell_type": "code",
   "execution_count": 4309,
   "metadata": {
    "collapsed": true,
    "deletable": true,
    "editable": true
   },
   "outputs": [],
   "source": [
    "vle_student_final.columns = vle_student_final.columns.droplevel()\n",
    "vle_student_final = vle_student_final.reset_index() "
   ]
  },
  {
   "cell_type": "code",
   "execution_count": 4310,
   "metadata": {
    "collapsed": false,
    "deletable": true,
    "editable": true
   },
   "outputs": [
    {
     "data": {
      "text/plain": [
       "(29195, 18)"
      ]
     },
     "execution_count": 4310,
     "metadata": {},
     "output_type": "execute_result"
    }
   ],
   "source": [
    "vle_student_final.shape"
   ]
  },
  {
   "cell_type": "markdown",
   "metadata": {
    "deletable": true,
    "editable": true
   },
   "source": [
    "## 1.4 Select variables for independent variables"
   ]
  },
  {
   "cell_type": "markdown",
   "metadata": {
    "deletable": true,
    "editable": true
   },
   "source": [
    "### Drop variables - used to fine-tune variables easily"
   ]
  },
  {
   "cell_type": "code",
   "execution_count": 4311,
   "metadata": {
    "collapsed": false,
    "deletable": true,
    "editable": true
   },
   "outputs": [
    {
     "data": {
      "text/plain": [
       "Index([u'code_module', u'code_presentation', u'id_student', u'n_exam',\n",
       "       u'cum_total_score', u'is_banked', u'n_cma', u'n_tma', u'mean_score',\n",
       "       u'sd_score', u'n_assess', u'ma_score', u'percentile_cum_score',\n",
       "       u'percentile_mean_score', u'last_score', u'last_cma', u'last_tma',\n",
       "       u'last_exam'],\n",
       "      dtype='object')"
      ]
     },
     "execution_count": 4311,
     "metadata": {},
     "output_type": "execute_result"
    }
   ],
   "source": [
    "assessment_student_final.columns"
   ]
  },
  {
   "cell_type": "code",
   "execution_count": 4312,
   "metadata": {
    "collapsed": true,
    "deletable": true,
    "editable": true
   },
   "outputs": [],
   "source": [
    "assessment_student_final = assessment_student_final.\\\n",
    "drop(['sd_score','ma_score',\\\n",
    "      'last_exam','n_cma', 'n_tma','n_exam','mean_score','cum_total_score'], axis=1)"
   ]
  },
  {
   "cell_type": "code",
   "execution_count": 4313,
   "metadata": {
    "collapsed": false,
    "deletable": true,
    "editable": true
   },
   "outputs": [
    {
     "data": {
      "text/plain": [
       "Index([u'code_module', u'code_presentation', u'id_student', u'total_uni_site',\n",
       "       u'total_site', u'total_click_forumng', u'total_visit_forumng',\n",
       "       u'total_click_url', u'total_visit_url', u'total_click_resource',\n",
       "       u'total_visit_resource', u'total_active_day', u'total_click_subpage',\n",
       "       u'total_visit_subpage', u'total_click_oucontent',\n",
       "       u'total_visit_oucontent', u'total_visit_homepage',\n",
       "       u'total_click_homepage'],\n",
       "      dtype='object')"
      ]
     },
     "execution_count": 4313,
     "metadata": {},
     "output_type": "execute_result"
    }
   ],
   "source": [
    "vle_student_final.columns"
   ]
  },
  {
   "cell_type": "code",
   "execution_count": 4314,
   "metadata": {
    "collapsed": true,
    "deletable": true,
    "editable": true
   },
   "outputs": [],
   "source": [
    "#vle_student_final = vle_student_final.\\\n",
    "#drop(['mean_click_forumng','mean_click_resource','mean_click_url',\\\n",
    "#      'mean_click_subpage','mean_click_oucontent','mean_click_homepage'], axis=1)"
   ]
  },
  {
   "cell_type": "code",
   "execution_count": 4315,
   "metadata": {
    "collapsed": false,
    "deletable": true,
    "editable": true
   },
   "outputs": [
    {
     "data": {
      "text/plain": [
       "Index([u'Unnamed: 0', u'code_module', u'code_presentation', u'id_student',\n",
       "       u'gender', u'region', u'highest_education', u'imd_band', u'age_band',\n",
       "       u'num_of_prev_attempts', u'studied_credits', u'disability',\n",
       "       u'final_result', u'date_registration', u'date_unregistration',\n",
       "       u'module_presentation_length', u'Distinction', u'Fail', u'Pass',\n",
       "       u'Withdrawn', u'course_n_type', u'course_n_Exam', u'course_n_CMA',\n",
       "       u'course_n_TMA', u'course_weight_total', u'course_weight_Exam',\n",
       "       u'course_weight_CMA', u'course_weight_TMA', u'course_activity_n',\n",
       "       u'course_site_n'],\n",
       "      dtype='object')"
      ]
     },
     "execution_count": 4315,
     "metadata": {},
     "output_type": "execute_result"
    }
   ],
   "source": [
    "course_student_final.columns"
   ]
  },
  {
   "cell_type": "code",
   "execution_count": 4316,
   "metadata": {
    "collapsed": true,
    "deletable": true,
    "editable": true
   },
   "outputs": [],
   "source": [
    "course_student_final = course_student_final.\\\n",
    "drop(['Unnamed: 0','region','final_result','module_presentation_length','Distinction',\\\n",
    "     'Pass','Withdrawn', u'course_n_type', u'course_weight_total', u'course_weight_Exam',\n",
    "       u'course_weight_CMA', u'course_weight_TMA', u'course_activity_n',\n",
    "       u'course_site_n'], axis=1)\n",
    "#must keep 3 PK and 2 date\n",
    "if (metric == 'Withdrawn'):\n",
    "    course_student_final = course_student_final.drop(['Fail'], axis=1)"
   ]
  },
  {
   "cell_type": "markdown",
   "metadata": {
    "deletable": true,
    "editable": true
   },
   "source": [
    "### Merge all tables together"
   ]
  },
  {
   "cell_type": "code",
   "execution_count": 4317,
   "metadata": {
    "collapsed": true,
    "deletable": true,
    "editable": true
   },
   "outputs": [],
   "source": [
    "dataset = course_student_final.merge(vle_student_final, how='left', on=['code_module', 'code_presentation','id_student'])"
   ]
  },
  {
   "cell_type": "code",
   "execution_count": 4318,
   "metadata": {
    "collapsed": true,
    "deletable": true,
    "editable": true
   },
   "outputs": [],
   "source": [
    "dataset = dataset.merge(assessment_student_final, how='left', on=['code_module', 'code_presentation','id_student'])"
   ]
  },
  {
   "cell_type": "code",
   "execution_count": 4319,
   "metadata": {
    "collapsed": true,
    "deletable": true,
    "editable": true
   },
   "outputs": [],
   "source": [
    "dataset['p_assess'] = dataset['n_assess']/ (dataset['course_n_Exam'] + dataset['course_n_CMA'] + dataset['course_n_TMA'])"
   ]
  },
  {
   "cell_type": "code",
   "execution_count": 4320,
   "metadata": {
    "collapsed": true,
    "deletable": true,
    "editable": true
   },
   "outputs": [],
   "source": [
    "dataset = dataset.drop(['n_assess','course_n_Exam','course_n_CMA','course_n_TMA'], axis=1)"
   ]
  },
  {
   "cell_type": "code",
   "execution_count": 4321,
   "metadata": {
    "collapsed": false,
    "deletable": true,
    "editable": true
   },
   "outputs": [
    {
     "data": {
      "text/plain": [
       "(24678, 35)"
      ]
     },
     "execution_count": 4321,
     "metadata": {},
     "output_type": "execute_result"
    }
   ],
   "source": [
    "dataset.shape"
   ]
  },
  {
   "cell_type": "markdown",
   "metadata": {
    "deletable": true,
    "editable": true
   },
   "source": [
    "### Convert categorical data into dummy variables\n",
    "- Here I've tried both one-hot encoding for all categorical variables, and converted some categorical variables into numeric when the relationship is ordinal (like age, region level and education)\n",
    "- The results do not differ much. In reality, tree-based model is better to handle numeric variables than many categorical one, especially if the tree is shallow, categorical variables are less likely to be used up\n",
    "- Reference: https://medium.com/data-design/visiting-categorical-features-and-encoding-in-decision-trees-53400fa65931"
   ]
  },
  {
   "cell_type": "code",
   "execution_count": 4322,
   "metadata": {
    "collapsed": true,
    "deletable": true,
    "editable": true
   },
   "outputs": [],
   "source": [
    "cleanup_nums = {\"age_band\":     {\"0-35\": 1, \"35-55\": 2, \"55<=\": 3},\n",
    "                \"imd_band\": {\"0-10%\": 1, \"10-20\": 2, \"20-30%\": 3, \"30-40%\": 4,\"40-50%\": 5,\n",
    "                                  \"50-60%\": 6, \"60-70%\": 7, \"70-80%\":8, \"80-90%\":9, \"90-100%\":10 },\n",
    "                \"highest_education\": {\"No Formal quals\": 1, \"Lower Than A Level\": 2, \n",
    "                                      \"HE Qualification\": 3, \"A Level or Equivalent\": 4,\"Post Graduate Qualification\": 5}}"
   ]
  },
  {
   "cell_type": "code",
   "execution_count": 4323,
   "metadata": {
    "collapsed": true,
    "deletable": true,
    "editable": true
   },
   "outputs": [],
   "source": [
    "dataset.replace(cleanup_nums, inplace=True)"
   ]
  },
  {
   "cell_type": "code",
   "execution_count": 4324,
   "metadata": {
    "collapsed": true,
    "deletable": true,
    "editable": true
   },
   "outputs": [],
   "source": [
    "cols_to_transform = ['code_module','code_presentation','gender','disability'] #'code_module','code_presentation',\\"
   ]
  },
  {
   "cell_type": "code",
   "execution_count": 4325,
   "metadata": {
    "collapsed": true,
    "deletable": true,
    "editable": true
   },
   "outputs": [],
   "source": [
    "dataset_final = pd.get_dummies(dataset, columns = cols_to_transform, drop_first=True)\n"
   ]
  },
  {
   "cell_type": "markdown",
   "metadata": {
    "deletable": true,
    "editable": true
   },
   "source": [
    "### For withdrawal case, adjust the window"
   ]
  },
  {
   "cell_type": "code",
   "execution_count": 4326,
   "metadata": {
    "collapsed": true,
    "deletable": true,
    "editable": true
   },
   "outputs": [],
   "source": [
    "if (metric == 'Withdrawn') & (cutoff_i <30):\n",
    "    dataset_final['Withdrawn'] = np.where((dataset_final['date_unregistration'] < cutoff_i + window_width + 1), 1, 0)\n",
    "elif (metric == 'Withdrawn') & (cutoff_i >= 30):\n",
    "    dataset_final['Withdrawn'] = np.where((dataset_final['date_unregistration'] < cutoff_i + 30 + 1), 1, 0)"
   ]
  },
  {
   "cell_type": "code",
   "execution_count": 4327,
   "metadata": {
    "collapsed": true,
    "deletable": true,
    "editable": true
   },
   "outputs": [],
   "source": [
    "dataset_final = dataset_final.fillna(0) #fill in all missing values with 0"
   ]
  },
  {
   "cell_type": "markdown",
   "metadata": {
    "deletable": true,
    "editable": true
   },
   "source": [
    "## 1.5 Split train and test\n",
    "- As I don't put the historical data (i.e. the information happen in previous term), the train test split is purly random, rather than leaving out results in 2014J."
   ]
  },
  {
   "cell_type": "code",
   "execution_count": 4328,
   "metadata": {
    "collapsed": true,
    "deletable": true,
    "editable": true
   },
   "outputs": [],
   "source": [
    "X = dataset_final.drop([metric,'date_unregistration','id_student'], axis=1)\n",
    "y = dataset_final[metric]"
   ]
  },
  {
   "cell_type": "code",
   "execution_count": 4329,
   "metadata": {
    "collapsed": true,
    "deletable": true,
    "editable": true
   },
   "outputs": [],
   "source": [
    "X_train, X_test, y_train, y_test = train_test_split(X, y , test_size=.3, random_state=20)"
   ]
  },
  {
   "cell_type": "code",
   "execution_count": 4330,
   "metadata": {
    "collapsed": false,
    "deletable": true,
    "editable": true
   },
   "outputs": [
    {
     "data": {
      "text/plain": [
       "((17274, 39), (7404, 39))"
      ]
     },
     "execution_count": 4330,
     "metadata": {},
     "output_type": "execute_result"
    }
   ],
   "source": [
    "X_train.shape, X_test.shape"
   ]
  },
  {
   "cell_type": "code",
   "execution_count": 4331,
   "metadata": {
    "collapsed": false,
    "deletable": true,
    "editable": true
   },
   "outputs": [
    {
     "data": {
      "text/plain": [
       "((17274,), (7404,))"
      ]
     },
     "execution_count": 4331,
     "metadata": {},
     "output_type": "execute_result"
    }
   ],
   "source": [
    "y_train.shape, y_test.shape"
   ]
  },
  {
   "cell_type": "code",
   "execution_count": 4332,
   "metadata": {
    "collapsed": false,
    "deletable": true,
    "editable": true
   },
   "outputs": [
    {
     "data": {
      "text/plain": [
       "(0.28291073289336577, 0.29038357644516477)"
      ]
     },
     "execution_count": 4332,
     "metadata": {},
     "output_type": "execute_result"
    }
   ],
   "source": [
    "np.mean(y_train), np.mean(y_test) #label % in two groups, for QC"
   ]
  },
  {
   "cell_type": "code",
   "execution_count": 4333,
   "metadata": {
    "collapsed": false,
    "deletable": true,
    "editable": true
   },
   "outputs": [
    {
     "data": {
      "text/plain": [
       "Index([u'highest_education', u'imd_band', u'age_band', u'num_of_prev_attempts',\n",
       "       u'studied_credits', u'date_registration', u'total_uni_site',\n",
       "       u'total_site', u'total_click_forumng', u'total_visit_forumng',\n",
       "       u'total_click_url', u'total_visit_url', u'total_click_resource',\n",
       "       u'total_visit_resource', u'total_active_day', u'total_click_subpage',\n",
       "       u'total_visit_subpage', u'total_click_oucontent',\n",
       "       u'total_visit_oucontent', u'total_visit_homepage',\n",
       "       u'total_click_homepage', u'is_banked', u'percentile_cum_score',\n",
       "       u'percentile_mean_score', u'last_score', u'last_cma', u'last_tma',\n",
       "       u'p_assess', u'code_module_BBB', u'code_module_CCC', u'code_module_DDD',\n",
       "       u'code_module_EEE', u'code_module_FFF', u'code_module_GGG',\n",
       "       u'code_presentation_2013J', u'code_presentation_2014B',\n",
       "       u'code_presentation_2014J', u'gender_M', u'disability_Y'],\n",
       "      dtype='object')"
      ]
     },
     "execution_count": 4333,
     "metadata": {},
     "output_type": "execute_result"
    }
   ],
   "source": [
    "X_train.columns #final labels, for QC"
   ]
  },
  {
   "cell_type": "markdown",
   "metadata": {
    "deletable": true,
    "editable": true
   },
   "source": [
    "# Part 2. Model Building"
   ]
  },
  {
   "cell_type": "markdown",
   "metadata": {
    "deletable": true,
    "editable": true
   },
   "source": [
    "### 2.1 Random Forest"
   ]
  },
  {
   "cell_type": "code",
   "execution_count": 4334,
   "metadata": {
    "collapsed": false,
    "deletable": true,
    "editable": true
   },
   "outputs": [
    {
     "name": "stdout",
     "output_type": "stream",
     "text": [
      "{'max_features': 12, 'n_estimators': 60, 'max_depth': 10}\n"
     ]
    }
   ],
   "source": [
    "if algorithm == \"Random Forest\":\n",
    "    rf = RandomForestClassifier(random_state=12345)\n",
    "    rf_grid = {'n_estimators':[60, 80],'max_depth':[8,10], 'max_features':[8,12]} #, 'max_features':[10,20] \n",
    "\n",
    "    rf_cv = GridSearchCV(estimator=rf, param_grid=rf_grid, cv=5, scoring='f1') \n",
    "    rf_final = rf_cv.fit(X_train, y_train)\n",
    "\n",
    "    y_pred = rf_final.predict(X_test)\n",
    "    y_pred_p = rf_final.predict_proba(X_test)\n",
    "    print rf_cv.best_params_"
   ]
  },
  {
   "cell_type": "markdown",
   "metadata": {
    "deletable": true,
    "editable": true
   },
   "source": [
    "### 2.2 XGBoost\n",
    "- XGBoost has similar performance as random forest. Considering the calculation speed, random forest will be used as final model"
   ]
  },
  {
   "cell_type": "code",
   "execution_count": 4335,
   "metadata": {
    "collapsed": true,
    "deletable": true,
    "editable": true
   },
   "outputs": [],
   "source": [
    "if algorithm == \"XGBoost\":\n",
    "    reg = XGBClassifier(seed=12345,silent=0)\n",
    "    reg_pram = {'n_estimators':[80,100],'learning_rate':[0.01, 0.1],'subsample':[0.6,0.8]}\n",
    "    reg_search = GridSearchCV(reg, reg_pram, cv = 5, scoring='f1')\n",
    "    reg_final = reg_search.fit(X_train, y_train)\n",
    "    y_pred = reg_final.predict(X_test)\n",
    "    y_pred_p = reg_final.predict_proba(X_test)"
   ]
  },
  {
   "cell_type": "markdown",
   "metadata": {
    "deletable": true,
    "editable": true
   },
   "source": [
    "### 2.3 Neural Network\n",
    "- Neural network provides slightly better performance. However as it is a black box model that cannot provide the feature importance, I didn't use it for final model"
   ]
  },
  {
   "cell_type": "code",
   "execution_count": 4336,
   "metadata": {
    "collapsed": true,
    "deletable": true,
    "editable": true
   },
   "outputs": [],
   "source": [
    "import keras\n",
    "from keras.layers import Dense\n",
    "from keras.models import Sequential\n",
    "from keras.utils import to_categorical"
   ]
  },
  {
   "cell_type": "code",
   "execution_count": 4337,
   "metadata": {
    "collapsed": true,
    "deletable": true,
    "editable": true
   },
   "outputs": [],
   "source": [
    "if algorithm == \"Neural Network\":\n",
    "    # Save the number of columns in predictors: n_cols\n",
    "    n_cols = X_train.shape[1]\n",
    "    input_shape = (n_cols,)\n",
    "\n",
    "    # Specify the model\n",
    "    model = Sequential()\n",
    "    model.add(Dense(60, activation='relu', input_shape = input_shape))\n",
    "    model.add(Dense(30, activation='relu'))\n",
    "    model.add(Dense(1, activation='sigmoid'))\n",
    "\n",
    "    # Compile the model\n",
    "    model.compile(optimizer='adam',loss = 'binary_crossentropy', metrics=['accuracy'])\n",
    "\n",
    "    # Define early_stopping_monitor\n",
    "    #early_stopping_monitor = EarlyStopping(patience=2) #generally it's 2 to 3\n",
    "\n",
    "    # Fit the model\n",
    "    model.fit(X_train.values,y_train.values,epochs=30,validation_split=0.3) #,callbacks = [early_stopping_monitor]\n",
    "    y_pred = model.predict_proba(X_test.values)"
   ]
  },
  {
   "cell_type": "markdown",
   "metadata": {
    "deletable": true,
    "editable": true
   },
   "source": [
    "### 2.4 Feature importance (from random forest)"
   ]
  },
  {
   "cell_type": "code",
   "execution_count": 4338,
   "metadata": {
    "collapsed": false,
    "deletable": true,
    "editable": true
   },
   "outputs": [
    {
     "name": "stdout",
     "output_type": "stream",
     "text": [
      "[(0.12768055398519079, 'code_module_EEE'), (0.13242089451797037, 'last_cma'), (0.16397364033273154, 'last_tma'), (0.17765229890893758, 'code_module_GGG'), (0.22950769546844765, 'code_presentation_2013J'), (0.23080081209713607, 'disability_Y'), (0.25108981315430184, 'is_banked'), (0.26316748997087397, 'gender_M'), (0.26469427893978836, 'code_module_CCC'), (0.26839110553081075, 'code_module_BBB'), (0.28052025190572827, 'age_band'), (0.33775926234515596, 'code_presentation_2014B'), (0.35244683514708364, 'code_module_FFF'), (0.36474460939544817, 'code_presentation_2014J'), (0.45738173355867423, 'code_module_DDD'), (0.48698550638994448, 'num_of_prev_attempts'), (0.81636217750358286, 'highest_education'), (0.98982739657616403, 'total_visit_resource'), (1.0960138075899861, 'total_visit_homepage'), (1.119061054183776, 'studied_credits'), (1.1435419147415911, 'total_visit_oucontent'), (1.2295632063574149, 'total_visit_subpage'), (1.2801649789594396, 'total_visit_forumng'), (1.3766491702456725, 'total_click_url'), (1.4136743850252254, 'imd_band'), (1.4141756527781242, 'total_site'), (1.6405691984762112, 'total_visit_url'), (1.7503259188858316, 'total_uni_site'), (1.7823454827394749, 'total_click_forumng'), (1.8497958063788174, 'total_click_resource'), (1.988018377985485, 'total_click_subpage'), (2.3190913377118516, 'total_click_oucontent'), (2.4081345776974223, 'date_registration'), (3.2011861857890413, 'total_click_homepage'), (5.2835759311619563, 'last_score'), (6.1679231856435655, 'total_active_day'), (12.820374911987356, 'percentile_mean_score'), (13.298926103543995, 'p_assess'), (29.221482456389786, 'percentile_cum_score')]\n"
     ]
    }
   ],
   "source": [
    "if algorithm == \"Random Forest\":\n",
    "    feature_importance_rf = dict(zip(X_train.columns,rf_final.best_estimator_.feature_importances_*100))\n",
    "    print sorted([(value,key) for (key,value) in feature_importance_rf.items()])"
   ]
  },
  {
   "cell_type": "markdown",
   "metadata": {
    "deletable": true,
    "editable": true
   },
   "source": [
    "# Part 3. Model Evaluation"
   ]
  },
  {
   "cell_type": "markdown",
   "metadata": {
    "deletable": true,
    "editable": true
   },
   "source": [
    "### 3.1 Basic model performance\n",
    "- Here the basic performance is printed for easily refer. However for our case, cutting off the positive case at probability 0.5 (by default setting in classification problem) is not helpful for targeting. Thus I will use KS statistic to evaluate performance, and cumulative gain chart to show the % of positive cases among those who are targeted."
   ]
  },
  {
   "cell_type": "code",
   "execution_count": 4339,
   "metadata": {
    "collapsed": false,
    "deletable": true,
    "editable": true
   },
   "outputs": [
    {
     "name": "stdout",
     "output_type": "stream",
     "text": [
      "Accuracy of model: 0.811993517018\n",
      "Classification report of model:\n",
      "             precision    recall  f1-score   support\n",
      "\n",
      "          0       0.83      0.93      0.87      5254\n",
      "          1       0.75      0.53      0.62      2150\n",
      "\n",
      "avg / total       0.81      0.81      0.80      7404\n",
      "\n",
      "Confusion matrix\n",
      "(4865, 389, 1003, 1147)\n"
     ]
    }
   ],
   "source": [
    "print 'Accuracy of model:', accuracy_score(y_test, y_pred)\n",
    "print 'Classification report of model:'\n",
    "print classification_report(y_test, y_pred)\n",
    "print 'Confusion matrix'\n",
    "tn, fp, fn, tp = confusion_matrix(y_test, y_pred).ravel()\n",
    "print (tn, fp, fn, tp) "
   ]
  },
  {
   "cell_type": "markdown",
   "metadata": {
    "deletable": true,
    "editable": true
   },
   "source": [
    "###  3.2 KS statistics\n",
    "- K-S is a measure of the degree of separation between the positive and negative distributions. The K-S is 100, if the scores partition the population into two separate groups in which one group contains all the positives and the other all the negatives.\n",
    "- Reference: https://www.analyticsvidhya.com/blog/2016/02/7-important-model-evaluation-error-metrics/"
   ]
  },
  {
   "cell_type": "code",
   "execution_count": 4340,
   "metadata": {
    "collapsed": true,
    "deletable": true,
    "editable": true
   },
   "outputs": [],
   "source": [
    "import matplotlib.pyplot as plt\n",
    "import scikitplot as skplt"
   ]
  },
  {
   "cell_type": "code",
   "execution_count": 4341,
   "metadata": {
    "collapsed": false,
    "deletable": true,
    "editable": true
   },
   "outputs": [
    {
     "data": {
      "image/png": "[encoded data removed]",
      "text/plain": [
       "<matplotlib.figure.Figure at 0x12a9dcfd0>"
      ]
     },
     "metadata": {},
     "output_type": "display_data"
    }
   ],
   "source": [
    "skplt.metrics.plot_ks_statistic(y_test, y_pred_p)\n",
    "plt.show()"
   ]
  },
  {
   "cell_type": "markdown",
   "metadata": {
    "deletable": true,
    "editable": true
   },
   "source": [
    "### 3.3 Cumulative gain charts\n",
    "- Gain chart shows that for different % of targeted samples, what is the % of positive cases among all samples targeted\n",
    "- Reference: http://mlwiki.org/index.php/Cumulative_Gain_Chart"
   ]
  },
  {
   "cell_type": "code",
   "execution_count": 4342,
   "metadata": {
    "collapsed": false,
    "deletable": true,
    "editable": true
   },
   "outputs": [
    {
     "data": {
      "image/png": "[encoded data removed]",
      "text/plain": [
       "<matplotlib.figure.Figure at 0x12a16e590>"
      ]
     },
     "metadata": {},
     "output_type": "display_data"
    }
   ],
   "source": [
    "skplt.metrics.plot_cumulative_gain(y_test, y_pred_p)\n",
    "plt.show()"
   ]
  },
  {
   "cell_type": "code",
   "execution_count": 4343,
   "metadata": {
    "collapsed": true,
    "deletable": true,
    "editable": true
   },
   "outputs": [],
   "source": [
    "#skplt.estimators.plot_learning_curve(rf_final.best_estimator_, X_train, y_train)\n",
    "#plt.show()"
   ]
  },
  {
   "cell_type": "markdown",
   "metadata": {
    "deletable": true,
    "editable": true
   },
   "source": [
    "#### Getting the data for charting...\n",
    "- Reference: https://github.com/reiinakano/scikit-plot/blob/master/scikitplot/helpers.py\n",
    "- Here I get the gain calculation directly from the code source from scikitplot package"
   ]
  },
  {
   "cell_type": "code",
   "execution_count": 4344,
   "metadata": {
    "collapsed": true,
    "deletable": true,
    "editable": true
   },
   "outputs": [],
   "source": [
    "def cumulative_gain_curve(y_true, y_score, pos_label=None):\n",
    "    y_true, y_score = np.asarray(y_true), np.asarray(y_score)\n",
    "\n",
    "    # ensure binary classification if pos_label is not specified\n",
    "    classes = np.unique(y_true)\n",
    "    if (pos_label is None and\n",
    "        not (np.array_equal(classes, [0, 1]) or\n",
    "             np.array_equal(classes, [-1, 1]) or\n",
    "             np.array_equal(classes, [0]) or\n",
    "             np.array_equal(classes, [-1]) or\n",
    "             np.array_equal(classes, [1]))):\n",
    "        raise ValueError(\"Data is not binary and pos_label is not specified\")\n",
    "    elif pos_label is None:\n",
    "        pos_label = 1.\n",
    "\n",
    "    # make y_true a boolean vector\n",
    "    y_true = (y_true == pos_label)\n",
    "\n",
    "    sorted_indices = np.argsort(y_score)[::-1]\n",
    "    y_true = y_true[sorted_indices]\n",
    "    gains = np.cumsum(y_true)\n",
    "\n",
    "    percentages = np.arange(start=1, stop=len(y_true) + 1)\n",
    "\n",
    "    gains = gains / float(np.sum(y_true))\n",
    "    percentages = percentages / float(len(y_true))\n",
    "\n",
    "    gains = np.insert(gains, 0, [0])\n",
    "    percentages = np.insert(percentages, 0, [0])\n",
    "\n",
    "    return percentages, gains"
   ]
  },
  {
   "cell_type": "code",
   "execution_count": 4345,
   "metadata": {
    "collapsed": true,
    "deletable": true,
    "editable": true
   },
   "outputs": [],
   "source": [
    "percentages, gains = cumulative_gain_curve(y_test, y_pred_p[:, 1])"
   ]
  },
  {
   "cell_type": "code",
   "execution_count": 4346,
   "metadata": {
    "collapsed": true,
    "deletable": true,
    "editable": true
   },
   "outputs": [],
   "source": [
    "gain_result = DataFrame(gains)"
   ]
  },
  {
   "cell_type": "code",
   "execution_count": 4347,
   "metadata": {
    "collapsed": true,
    "deletable": true,
    "editable": true
   },
   "outputs": [],
   "source": [
    "percentages_result = DataFrame(percentages)"
   ]
  },
  {
   "cell_type": "code",
   "execution_count": 4348,
   "metadata": {
    "collapsed": true,
    "deletable": true,
    "editable": true
   },
   "outputs": [],
   "source": [
    "final_metric = pd.concat([percentages_result, gain_result], axis=1)"
   ]
  },
  {
   "cell_type": "code",
   "execution_count": 4349,
   "metadata": {
    "collapsed": true,
    "deletable": true,
    "editable": true
   },
   "outputs": [],
   "source": [
    "#final_metric.to_csv(\"~/Google Drive/MSBA@UMN/OULAD/cumulative_gain_withdraw.csv\")"
   ]
  }
 ],
 "metadata": {
  "kernelspec": {
   "display_name": "Python 2",
   "language": "python",
   "name": "python2"
  },
  "language_info": {
   "codemirror_mode": {
    "name": "ipython",
    "version": 2
   },
   "file_extension": ".py",
   "mimetype": "text/x-python",
   "name": "python",
   "nbconvert_exporter": "python",
   "pygments_lexer": "ipython2",
   "version": "2.7.13"
  }
 },
 "nbformat": 4,
 "nbformat_minor": 2
}
